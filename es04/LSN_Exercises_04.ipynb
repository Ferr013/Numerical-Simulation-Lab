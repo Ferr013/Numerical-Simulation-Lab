{
 "cells": [
  {
   "cell_type": "markdown",
   "metadata": {},
   "source": [
    "# <span style=\"color:green\"> Numerical Simulation Laboratory (NSL) </span>\n",
    "## <span style=\"color:blue\">  Numerical exercises 4</span>"
   ]
  },
  {
   "cell_type": "markdown",
   "metadata": {},
   "source": [
    "### Exercise 04.1\n",
    "\n",
    "The Molecular Dynamics (MD) code starts the simulation run from a provided spatial configuration of the $N$ particles (file: <font face=\"Courier\">config.0</font>) and, once the simulation is finished, it writes out the final configuration (file: <font face=\"Courier\">config.final</font>). \n",
    "1. <span style=\"color:red\">Improve the MD code by enabling (you should insert this option via a boolean-like variable in the input file) the **possibility** to **(re)start** reading not only a **actual** spatial configuration [$\\vec{r}(t)$] file but also an **old** spatial configuration [$\\vec{r}(t-dt)$] file</span> (files: <font face=\"Courier\">old.0</font> and <font face=\"Courier\">old.final</font>).\n",
    "2. Moreover, <span style=\"color:red\">add the possibility to rescale the velocities [i.e. to correct $\\vec{r}(t-dt)$] in order to match a desired temperature</span>.\n",
    "\n",
    "The typical required operations when the re-start option will be enabled are:\n",
    "1. read $\\vec{r}(t)$ and $\\vec{r}(t-dt)$ from the corresponding input files\n",
    "2. compute $\\vec{r}(t+dt)$ with one step of the Verlet algorithm; with $\\vec{r}(t+dt)$ and $\\vec{r}(t-dt)$ compute $\\vec{v}(t)$; finally obtain the actual temperature $T(t)$\n",
    "3. by comparing $T(t)$ with the desired/target temperature  $T^\\star$ extract a scaling factor for the velocities and rescale them: $\\vec{v}(t) \\to \\vec{v}_s(t)$\n",
    "4. use $\\vec{v}_s(t)$ to estimate a novel **old** spatial configuration: $\\vec{r}_{new}(t-dt) = \\vec{r}(t+dt) - 2 dt \\vec{v}_s$\n",
    "5. use $\\vec{r}_{new}(t-dt)$ and $\\vec{r}(t)$ to start the simulation\n",
    "\n",
    "This will help you, especially in the equilibration phases of your simulations."
   ]
  },
  {
   "cell_type": "markdown",
   "metadata": {},
   "source": [
    "### Exercise 04.2\n",
    "\n",
    "The Molecular Dynamics code we have provided prints out only instantaneous values for the total (internal) energy per particle, $E/N$, potential energy per particle, $U/N$, kinetic energy per particle, $K/N$, and temperature, $T$.\n",
    "Take the MD code and include block averaging: \n",
    "\n",
    "Divide the <span style=\"color:blue\"><font face=\"Courier\">nstep</font></span> of the simulation into <span style=\"color:blue\"><font face=\"Courier\">nblocks</font></span>. By exploiting these blocks, <span style=\"color:red\">code the calculation of the average values and the uncertainties for $E/N$, $U/N$, $K/N$ and $T$</span>, that will be written in new specific output files, for example: <font face=\"Courier\">ave_epot.out, ave_ekin.out, ave_etot.out, ave_temp.out</font></span>"
   ]
  },
  {
   "cell_type": "markdown",
   "metadata": {},
   "source": [
    "### Exercise 04.3\n",
    "\n",
    "<span style=\"color:red\">Include the calculation of the pressure, $P$, inside your Molecular Dynamics code</span>: istantaneous values, average values and uncertainties.\n",
    "\n",
    "Remember that, via the **virial theorem**, the pressure in a Lennard-Jones system can be estimated by means of:\n",
    "\n",
    "$$ P = \\rho k_B T + \\frac{1}{3V} \\left\\langle \\sum_{i=1}^{N-1} \\sum_{j\\,(>i)}^N 48\\epsilon \\left[ \\left(\\frac{\\sigma}{|\\vec{r}_i -\\vec{r}_j|}\\right)^{12} - \n",
    "\\frac{1}{2} \\left(\\frac{\\sigma}{|\\vec{r}_i -\\vec{r}_j|}\\right)^6 \\right] \\right\\rangle $$"
   ]
  },
  {
   "cell_type": "markdown",
   "metadata": {},
   "source": [
    "### Exercise 04.4\n",
    "\n",
    "By means of your upgraded MD code, equilibrate and <span style=\"color:red\">perform MD simulations via a Lennard-Jones model</span> of Argon ($\\sigma = 0.34$ nm, $\\epsilon/k_B = 120$ K, $m=39.948$ amu) and Krypton ($\\sigma = 0.364$ nm, $\\epsilon/k_B = 164$ K, $m=83.798$ amu) in the following conditions:\n",
    "1. solid phase: $\\rho^\\star = 1.1$, $T^\\star = 0.8$ (cut-off radius: $r_c = 2.2$)\n",
    "2. liquid phase: $\\rho^\\star = 0.8$, $T^\\star = 1.1$ (cut-off radius: $r_c = 2.5$)\n",
    "3. gas phase: $\\rho^\\star = 0.05$, $T^\\star = 1.2$ (cut-off radius: $r_c = 5.0$)\n",
    "\n",
    "and show in pictures the obtained average values and uncertainties for the total (internal) energy per particle, $E/N$, the potential energy per particle, $U/N$, the kinetic energy per particle, $K/N$, the pressure $P$ and the temperature, $T$ ... in SI units!"
   ]
  }
 ],
 "metadata": {
  "kernelspec": {
   "display_name": "Python 3",
   "language": "python",
   "name": "python3"
  },
  "language_info": {
   "codemirror_mode": {
    "name": "ipython",
    "version": 3
   },
   "file_extension": ".py",
   "mimetype": "text/x-python",
   "name": "python",
   "nbconvert_exporter": "python",
   "pygments_lexer": "ipython3",
   "version": "3.6.8"
  }
 },
 "nbformat": 4,
 "nbformat_minor": 2
}
