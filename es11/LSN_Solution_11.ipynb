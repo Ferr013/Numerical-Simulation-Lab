{
 "cells": [
  {
   "cell_type": "code",
   "execution_count": 1,
   "metadata": {},
   "outputs": [],
   "source": [
    "# target parameters of f(x) = m*x + b\n",
    "m = 2 # slope\n",
    "b = 1 # intersect"
   ]
  },
  {
   "cell_type": "code",
   "execution_count": 2,
   "metadata": {},
   "outputs": [],
   "source": [
    "import numpy as np\n",
    "\n",
    "# generate training inputs\n",
    "np.random.seed(0)\n",
    "x_train = np.random.uniform(-1, 1, 100)\n",
    "x_valid = np.random.uniform(-1, 1, 10)\n",
    "x_valid.sort()\n",
    "y_target = m * x_valid + b # ideal (target) linear function\n",
    "\n",
    "sigma = 0.15 # noise standard deviation, for the moment it is absent\n",
    "y_train = np.random.normal(m * x_train + b, sigma) # actual measures from which we want to guess regression parameters\n",
    "y_valid = np.random.normal(m * x_valid + b, sigma)"
   ]
  },
  {
   "cell_type": "code",
   "execution_count": 3,
   "metadata": {},
   "outputs": [
    {
     "data": {
      "image/png": "[encoded data removed]",
      "text/plain": [
       "<Figure size 432x288 with 1 Axes>"
      ]
     },
     "metadata": {},
     "output_type": "display_data"
    }
   ],
   "source": [
    "# plot training and target dataset\n",
    "import matplotlib.pyplot as plt\n",
    "plt.plot(x_valid, y_target)\n",
    "plt.scatter(x_valid, y_valid, color='r')\n",
    "plt.grid(True); plt.show()"
   ]
  },
  {
   "cell_type": "code",
   "execution_count": 4,
   "metadata": {},
   "outputs": [
    {
     "name": "stdout",
     "output_type": "stream",
     "text": [
      "WARNING:tensorflow:From /home/ferra/miniconda3/envs/idp/lib/python3.6/site-packages/tensorflow/python/ops/resource_variable_ops.py:435: colocate_with (from tensorflow.python.framework.ops) is deprecated and will be removed in a future version.\n",
      "Instructions for updating:\n",
      "Colocations handled automatically by placer.\n",
      "WARNING:tensorflow:From /home/ferra/miniconda3/envs/idp/lib/python3.6/site-packages/tensorflow/python/keras/utils/losses_utils.py:170: to_float (from tensorflow.python.ops.math_ops) is deprecated and will be removed in a future version.\n",
      "Instructions for updating:\n",
      "Use tf.cast instead.\n"
     ]
    }
   ],
   "source": [
    "# compose the NN model\n",
    "import tensorflow as tf\n",
    "from tensorflow import keras\n",
    "\n",
    "from tensorflow.keras.models import Sequential\n",
    "from tensorflow.keras.layers import Dense, Activation\n",
    "from tensorflow.keras import backend as K\n",
    "from tensorflow.keras.utils import get_custom_objects\n",
    "\n",
    "model = tf.keras.Sequential()\n",
    "model.add(Dense(1, input_shape=(1,)))\n",
    "\n",
    "# compile the model choosing optimizer, loss and metrics objects\n",
    "model.compile(optimizer='sgd', loss='mse', metrics=['mse'])"
   ]
  },
  {
   "cell_type": "code",
   "execution_count": 5,
   "metadata": {},
   "outputs": [
    {
     "name": "stdout",
     "output_type": "stream",
     "text": [
      "_________________________________________________________________\n",
      "Layer (type)                 Output Shape              Param #   \n",
      "=================================================================\n",
      "dense (Dense)                (None, 1)                 2         \n",
      "=================================================================\n",
      "Total params: 2\n",
      "Trainable params: 2\n",
      "Non-trainable params: 0\n",
      "_________________________________________________________________\n"
     ]
    }
   ],
   "source": [
    "# get a summary of our composed model\n",
    "model.summary()"
   ]
  },
  {
   "cell_type": "code",
   "execution_count": 6,
   "metadata": {},
   "outputs": [
    {
     "name": "stdout",
     "output_type": "stream",
     "text": [
      "Train on 100 samples, validate on 10 samples\n",
      "WARNING:tensorflow:From /home/ferra/miniconda3/envs/idp/lib/python3.6/site-packages/tensorflow/python/ops/math_ops.py:3066: to_int32 (from tensorflow.python.ops.math_ops) is deprecated and will be removed in a future version.\n",
      "Instructions for updating:\n",
      "Use tf.cast instead.\n",
      "Epoch 1/100\n",
      "100/100 [==============================] - 0s 3ms/sample - loss: 2.5524 - mean_squared_error: 2.5524 - val_loss: 2.8593 - val_mean_squared_error: 2.8593\n",
      "Epoch 2/100\n",
      "100/100 [==============================] - 0s 131us/sample - loss: 2.2319 - mean_squared_error: 2.2319 - val_loss: 2.4282 - val_mean_squared_error: 2.4282\n",
      "Epoch 3/100\n",
      "100/100 [==============================] - 0s 261us/sample - loss: 1.9377 - mean_squared_error: 1.9377 - val_loss: 2.1115 - val_mean_squared_error: 2.1115\n",
      "Epoch 4/100\n",
      "100/100 [==============================] - 0s 255us/sample - loss: 1.7152 - mean_squared_error: 1.7152 - val_loss: 1.8231 - val_mean_squared_error: 1.8231\n",
      "Epoch 5/100\n",
      "100/100 [==============================] - 0s 264us/sample - loss: 1.5132 - mean_squared_error: 1.5132 - val_loss: 1.6180 - val_mean_squared_error: 1.6180\n",
      "Epoch 6/100\n",
      "100/100 [==============================] - 0s 308us/sample - loss: 1.3602 - mean_squared_error: 1.3602 - val_loss: 1.4194 - val_mean_squared_error: 1.4194\n",
      "Epoch 7/100\n",
      "100/100 [==============================] - 0s 281us/sample - loss: 1.2174 - mean_squared_error: 1.2174 - val_loss: 1.2577 - val_mean_squared_error: 1.2577\n",
      "Epoch 8/100\n",
      "100/100 [==============================] - 0s 294us/sample - loss: 1.0956 - mean_squared_error: 1.0956 - val_loss: 1.1137 - val_mean_squared_error: 1.1137\n",
      "Epoch 9/100\n",
      "100/100 [==============================] - 0s 258us/sample - loss: 0.9861 - mean_squared_error: 0.9861 - val_loss: 0.9859 - val_mean_squared_error: 0.9859\n",
      "Epoch 10/100\n",
      "100/100 [==============================] - 0s 300us/sample - loss: 0.8884 - mean_squared_error: 0.8884 - val_loss: 0.8792 - val_mean_squared_error: 0.8792\n",
      "Epoch 11/100\n",
      "100/100 [==============================] - 0s 420us/sample - loss: 0.8044 - mean_squared_error: 0.8044 - val_loss: 0.7937 - val_mean_squared_error: 0.7937\n",
      "Epoch 12/100\n",
      "100/100 [==============================] - 0s 164us/sample - loss: 0.7351 - mean_squared_error: 0.7351 - val_loss: 0.7054 - val_mean_squared_error: 0.7054\n",
      "Epoch 13/100\n",
      "100/100 [==============================] - 0s 296us/sample - loss: 0.6637 - mean_squared_error: 0.6637 - val_loss: 0.6343 - val_mean_squared_error: 0.6343\n",
      "Epoch 14/100\n",
      "100/100 [==============================] - 0s 178us/sample - loss: 0.6043 - mean_squared_error: 0.6043 - val_loss: 0.5553 - val_mean_squared_error: 0.5553\n",
      "Epoch 15/100\n",
      "100/100 [==============================] - 0s 257us/sample - loss: 0.5401 - mean_squared_error: 0.5401 - val_loss: 0.4983 - val_mean_squared_error: 0.4983\n",
      "Epoch 16/100\n",
      "100/100 [==============================] - 0s 339us/sample - loss: 0.4919 - mean_squared_error: 0.4919 - val_loss: 0.4537 - val_mean_squared_error: 0.4537\n",
      "Epoch 17/100\n",
      "100/100 [==============================] - 0s 396us/sample - loss: 0.4506 - mean_squared_error: 0.4506 - val_loss: 0.4092 - val_mean_squared_error: 0.4092\n",
      "Epoch 18/100\n",
      "100/100 [==============================] - 0s 253us/sample - loss: 0.4111 - mean_squared_error: 0.4111 - val_loss: 0.3682 - val_mean_squared_error: 0.3682\n",
      "Epoch 19/100\n",
      "100/100 [==============================] - 0s 367us/sample - loss: 0.3752 - mean_squared_error: 0.3752 - val_loss: 0.3353 - val_mean_squared_error: 0.3353\n",
      "Epoch 20/100\n",
      "100/100 [==============================] - 0s 256us/sample - loss: 0.3452 - mean_squared_error: 0.3452 - val_loss: 0.3038 - val_mean_squared_error: 0.3038\n",
      "Epoch 21/100\n",
      "100/100 [==============================] - 0s 233us/sample - loss: 0.3142 - mean_squared_error: 0.3142 - val_loss: 0.2789 - val_mean_squared_error: 0.2789\n",
      "Epoch 22/100\n",
      "100/100 [==============================] - 0s 264us/sample - loss: 0.2895 - mean_squared_error: 0.2895 - val_loss: 0.2523 - val_mean_squared_error: 0.2523\n",
      "Epoch 23/100\n",
      "100/100 [==============================] - 0s 482us/sample - loss: 0.2647 - mean_squared_error: 0.2647 - val_loss: 0.2321 - val_mean_squared_error: 0.2321\n",
      "Epoch 24/100\n",
      "100/100 [==============================] - 0s 388us/sample - loss: 0.2447 - mean_squared_error: 0.2447 - val_loss: 0.2131 - val_mean_squared_error: 0.2131\n",
      "Epoch 25/100\n",
      "100/100 [==============================] - 0s 299us/sample - loss: 0.2253 - mean_squared_error: 0.2253 - val_loss: 0.1929 - val_mean_squared_error: 0.1929\n",
      "Epoch 26/100\n",
      "100/100 [==============================] - 0s 304us/sample - loss: 0.2062 - mean_squared_error: 0.2062 - val_loss: 0.1761 - val_mean_squared_error: 0.1761\n",
      "Epoch 27/100\n",
      "100/100 [==============================] - 0s 320us/sample - loss: 0.1884 - mean_squared_error: 0.1884 - val_loss: 0.1617 - val_mean_squared_error: 0.1617\n",
      "Epoch 28/100\n",
      "100/100 [==============================] - 0s 293us/sample - loss: 0.1739 - mean_squared_error: 0.1739 - val_loss: 0.1482 - val_mean_squared_error: 0.1482\n",
      "Epoch 29/100\n",
      "100/100 [==============================] - 0s 294us/sample - loss: 0.1602 - mean_squared_error: 0.1602 - val_loss: 0.1344 - val_mean_squared_error: 0.1344\n",
      "Epoch 30/100\n",
      "100/100 [==============================] - 0s 315us/sample - loss: 0.1466 - mean_squared_error: 0.1466 - val_loss: 0.1244 - val_mean_squared_error: 0.1244\n",
      "Epoch 31/100\n",
      "100/100 [==============================] - 0s 259us/sample - loss: 0.1355 - mean_squared_error: 0.1355 - val_loss: 0.1143 - val_mean_squared_error: 0.1143\n",
      "Epoch 32/100\n",
      "100/100 [==============================] - 0s 270us/sample - loss: 0.1255 - mean_squared_error: 0.1255 - val_loss: 0.1055 - val_mean_squared_error: 0.1055\n",
      "Epoch 33/100\n",
      "100/100 [==============================] - 0s 253us/sample - loss: 0.1167 - mean_squared_error: 0.1167 - val_loss: 0.0975 - val_mean_squared_error: 0.0975\n",
      "Epoch 34/100\n",
      "100/100 [==============================] - 0s 276us/sample - loss: 0.1082 - mean_squared_error: 0.1082 - val_loss: 0.0899 - val_mean_squared_error: 0.0899\n",
      "Epoch 35/100\n",
      "100/100 [==============================] - ETA: 0s - loss: 0.0654 - mean_squared_error: 0.06 - 0s 246us/sample - loss: 0.1005 - mean_squared_error: 0.1005 - val_loss: 0.0826 - val_mean_squared_error: 0.0826\n",
      "Epoch 36/100\n",
      "100/100 [==============================] - 0s 145us/sample - loss: 0.0935 - mean_squared_error: 0.0935 - val_loss: 0.0767 - val_mean_squared_error: 0.0767\n",
      "Epoch 37/100\n",
      "100/100 [==============================] - 0s 165us/sample - loss: 0.0875 - mean_squared_error: 0.0875 - val_loss: 0.0712 - val_mean_squared_error: 0.0712\n",
      "Epoch 38/100\n",
      "100/100 [==============================] - 0s 133us/sample - loss: 0.0818 - mean_squared_error: 0.0818 - val_loss: 0.0662 - val_mean_squared_error: 0.0662\n",
      "Epoch 39/100\n",
      "100/100 [==============================] - 0s 161us/sample - loss: 0.0763 - mean_squared_error: 0.0763 - val_loss: 0.0611 - val_mean_squared_error: 0.0611\n",
      "Epoch 40/100\n",
      "100/100 [==============================] - 0s 149us/sample - loss: 0.0712 - mean_squared_error: 0.0712 - val_loss: 0.0573 - val_mean_squared_error: 0.0573\n",
      "Epoch 41/100\n",
      "100/100 [==============================] - 0s 139us/sample - loss: 0.0671 - mean_squared_error: 0.0671 - val_loss: 0.0535 - val_mean_squared_error: 0.0535\n",
      "Epoch 42/100\n",
      "100/100 [==============================] - 0s 121us/sample - loss: 0.0630 - mean_squared_error: 0.0630 - val_loss: 0.0500 - val_mean_squared_error: 0.0500\n",
      "Epoch 43/100\n",
      "100/100 [==============================] - 0s 141us/sample - loss: 0.0593 - mean_squared_error: 0.0593 - val_loss: 0.0468 - val_mean_squared_error: 0.0468\n",
      "Epoch 44/100\n",
      "100/100 [==============================] - 0s 124us/sample - loss: 0.0558 - mean_squared_error: 0.0558 - val_loss: 0.0443 - val_mean_squared_error: 0.0443\n",
      "Epoch 45/100\n",
      "100/100 [==============================] - 0s 142us/sample - loss: 0.0531 - mean_squared_error: 0.0531 - val_loss: 0.0421 - val_mean_squared_error: 0.0421\n",
      "Epoch 46/100\n",
      "100/100 [==============================] - 0s 130us/sample - loss: 0.0508 - mean_squared_error: 0.0508 - val_loss: 0.0399 - val_mean_squared_error: 0.0399\n",
      "Epoch 47/100\n"
     ]
    },
    {
     "name": "stdout",
     "output_type": "stream",
     "text": [
      "100/100 [==============================] - 0s 129us/sample - loss: 0.0483 - mean_squared_error: 0.0483 - val_loss: 0.0381 - val_mean_squared_error: 0.0381\n",
      "Epoch 48/100\n",
      "100/100 [==============================] - 0s 143us/sample - loss: 0.0463 - mean_squared_error: 0.0463 - val_loss: 0.0363 - val_mean_squared_error: 0.0363\n",
      "Epoch 49/100\n",
      "100/100 [==============================] - 0s 148us/sample - loss: 0.0443 - mean_squared_error: 0.0443 - val_loss: 0.0346 - val_mean_squared_error: 0.0346\n",
      "Epoch 50/100\n",
      "100/100 [==============================] - 0s 151us/sample - loss: 0.0425 - mean_squared_error: 0.0425 - val_loss: 0.0332 - val_mean_squared_error: 0.0332\n",
      "Epoch 51/100\n",
      "100/100 [==============================] - 0s 149us/sample - loss: 0.0409 - mean_squared_error: 0.0409 - val_loss: 0.0315 - val_mean_squared_error: 0.0315\n",
      "Epoch 52/100\n",
      "100/100 [==============================] - 0s 146us/sample - loss: 0.0390 - mean_squared_error: 0.0390 - val_loss: 0.0302 - val_mean_squared_error: 0.0302\n",
      "Epoch 53/100\n",
      "100/100 [==============================] - 0s 136us/sample - loss: 0.0375 - mean_squared_error: 0.0375 - val_loss: 0.0292 - val_mean_squared_error: 0.0292\n",
      "Epoch 54/100\n",
      "100/100 [==============================] - 0s 135us/sample - loss: 0.0364 - mean_squared_error: 0.0364 - val_loss: 0.0282 - val_mean_squared_error: 0.0282\n",
      "Epoch 55/100\n",
      "100/100 [==============================] - 0s 131us/sample - loss: 0.0351 - mean_squared_error: 0.0351 - val_loss: 0.0272 - val_mean_squared_error: 0.0272\n",
      "Epoch 56/100\n",
      "100/100 [==============================] - 0s 147us/sample - loss: 0.0341 - mean_squared_error: 0.0341 - val_loss: 0.0262 - val_mean_squared_error: 0.0262\n",
      "Epoch 57/100\n",
      "100/100 [==============================] - 0s 139us/sample - loss: 0.0330 - mean_squared_error: 0.0330 - val_loss: 0.0255 - val_mean_squared_error: 0.0255\n",
      "Epoch 58/100\n",
      "100/100 [==============================] - 0s 133us/sample - loss: 0.0321 - mean_squared_error: 0.0321 - val_loss: 0.0248 - val_mean_squared_error: 0.0248\n",
      "Epoch 59/100\n",
      "100/100 [==============================] - 0s 139us/sample - loss: 0.0312 - mean_squared_error: 0.0312 - val_loss: 0.0241 - val_mean_squared_error: 0.0241\n",
      "Epoch 60/100\n",
      "100/100 [==============================] - 0s 143us/sample - loss: 0.0305 - mean_squared_error: 0.0305 - val_loss: 0.0236 - val_mean_squared_error: 0.0236\n",
      "Epoch 61/100\n",
      "100/100 [==============================] - 0s 140us/sample - loss: 0.0297 - mean_squared_error: 0.0297 - val_loss: 0.0231 - val_mean_squared_error: 0.0231\n",
      "Epoch 62/100\n",
      "100/100 [==============================] - 0s 141us/sample - loss: 0.0291 - mean_squared_error: 0.0291 - val_loss: 0.0228 - val_mean_squared_error: 0.0228\n",
      "Epoch 63/100\n",
      "100/100 [==============================] - 0s 137us/sample - loss: 0.0286 - mean_squared_error: 0.0286 - val_loss: 0.0221 - val_mean_squared_error: 0.0221\n",
      "Epoch 64/100\n",
      "100/100 [==============================] - 0s 187us/sample - loss: 0.0279 - mean_squared_error: 0.0279 - val_loss: 0.0218 - val_mean_squared_error: 0.0218\n",
      "Epoch 65/100\n",
      "100/100 [==============================] - 0s 154us/sample - loss: 0.0275 - mean_squared_error: 0.0275 - val_loss: 0.0215 - val_mean_squared_error: 0.0215\n",
      "Epoch 66/100\n",
      "100/100 [==============================] - 0s 142us/sample - loss: 0.0271 - mean_squared_error: 0.0271 - val_loss: 0.0210 - val_mean_squared_error: 0.0210\n",
      "Epoch 67/100\n",
      "100/100 [==============================] - 0s 138us/sample - loss: 0.0266 - mean_squared_error: 0.0266 - val_loss: 0.0208 - val_mean_squared_error: 0.0208\n",
      "Epoch 68/100\n",
      "100/100 [==============================] - 0s 151us/sample - loss: 0.0262 - mean_squared_error: 0.0262 - val_loss: 0.0204 - val_mean_squared_error: 0.0204\n",
      "Epoch 69/100\n",
      "100/100 [==============================] - 0s 133us/sample - loss: 0.0259 - mean_squared_error: 0.0259 - val_loss: 0.0203 - val_mean_squared_error: 0.0203\n",
      "Epoch 70/100\n",
      "100/100 [==============================] - 0s 136us/sample - loss: 0.0256 - mean_squared_error: 0.0256 - val_loss: 0.0201 - val_mean_squared_error: 0.0201\n",
      "Epoch 71/100\n",
      "100/100 [==============================] - 0s 129us/sample - loss: 0.0253 - mean_squared_error: 0.0253 - val_loss: 0.0199 - val_mean_squared_error: 0.0199\n",
      "Epoch 72/100\n",
      "100/100 [==============================] - 0s 153us/sample - loss: 0.0250 - mean_squared_error: 0.0250 - val_loss: 0.0199 - val_mean_squared_error: 0.0199\n",
      "Epoch 73/100\n",
      "100/100 [==============================] - 0s 140us/sample - loss: 0.0249 - mean_squared_error: 0.0249 - val_loss: 0.0197 - val_mean_squared_error: 0.0197\n",
      "Epoch 74/100\n",
      "100/100 [==============================] - 0s 171us/sample - loss: 0.0246 - mean_squared_error: 0.0246 - val_loss: 0.0196 - val_mean_squared_error: 0.0196\n",
      "Epoch 75/100\n",
      "100/100 [==============================] - 0s 116us/sample - loss: 0.0244 - mean_squared_error: 0.0244 - val_loss: 0.0192 - val_mean_squared_error: 0.0192\n",
      "Epoch 76/100\n",
      "100/100 [==============================] - 0s 137us/sample - loss: 0.0241 - mean_squared_error: 0.0241 - val_loss: 0.0194 - val_mean_squared_error: 0.0194\n",
      "Epoch 77/100\n",
      "100/100 [==============================] - 0s 121us/sample - loss: 0.0240 - mean_squared_error: 0.0240 - val_loss: 0.0192 - val_mean_squared_error: 0.0192\n",
      "Epoch 78/100\n",
      "100/100 [==============================] - 0s 124us/sample - loss: 0.0239 - mean_squared_error: 0.0239 - val_loss: 0.0189 - val_mean_squared_error: 0.0189\n",
      "Epoch 79/100\n",
      "100/100 [==============================] - 0s 132us/sample - loss: 0.0237 - mean_squared_error: 0.0237 - val_loss: 0.0188 - val_mean_squared_error: 0.0188\n",
      "Epoch 80/100\n",
      "100/100 [==============================] - 0s 139us/sample - loss: 0.0236 - mean_squared_error: 0.0236 - val_loss: 0.0188 - val_mean_squared_error: 0.0188\n",
      "Epoch 81/100\n",
      "100/100 [==============================] - 0s 136us/sample - loss: 0.0235 - mean_squared_error: 0.0235 - val_loss: 0.0186 - val_mean_squared_error: 0.0186\n",
      "Epoch 82/100\n",
      "100/100 [==============================] - 0s 131us/sample - loss: 0.0234 - mean_squared_error: 0.0234 - val_loss: 0.0185 - val_mean_squared_error: 0.0185\n",
      "Epoch 83/100\n",
      "100/100 [==============================] - 0s 134us/sample - loss: 0.0233 - mean_squared_error: 0.0233 - val_loss: 0.0185 - val_mean_squared_error: 0.0185\n",
      "Epoch 84/100\n",
      "100/100 [==============================] - 0s 145us/sample - loss: 0.0232 - mean_squared_error: 0.0232 - val_loss: 0.0183 - val_mean_squared_error: 0.0183\n",
      "Epoch 85/100\n",
      "100/100 [==============================] - 0s 123us/sample - loss: 0.0231 - mean_squared_error: 0.0231 - val_loss: 0.0183 - val_mean_squared_error: 0.0183\n",
      "Epoch 86/100\n",
      "100/100 [==============================] - 0s 113us/sample - loss: 0.0230 - mean_squared_error: 0.0230 - val_loss: 0.0184 - val_mean_squared_error: 0.0184\n",
      "Epoch 87/100\n",
      "100/100 [==============================] - 0s 117us/sample - loss: 0.0229 - mean_squared_error: 0.0229 - val_loss: 0.0184 - val_mean_squared_error: 0.0184\n",
      "Epoch 88/100\n",
      "100/100 [==============================] - 0s 147us/sample - loss: 0.0229 - mean_squared_error: 0.0229 - val_loss: 0.0182 - val_mean_squared_error: 0.0182\n",
      "Epoch 89/100\n",
      "100/100 [==============================] - 0s 120us/sample - loss: 0.0229 - mean_squared_error: 0.0229 - val_loss: 0.0183 - val_mean_squared_error: 0.0183\n",
      "Epoch 90/100\n",
      "100/100 [==============================] - 0s 123us/sample - loss: 0.0228 - mean_squared_error: 0.0228 - val_loss: 0.0182 - val_mean_squared_error: 0.0182\n",
      "Epoch 91/100\n",
      "100/100 [==============================] - 0s 131us/sample - loss: 0.0228 - mean_squared_error: 0.0228 - val_loss: 0.0182 - val_mean_squared_error: 0.0182\n",
      "Epoch 92/100\n",
      "100/100 [==============================] - 0s 129us/sample - loss: 0.0228 - mean_squared_error: 0.0228 - val_loss: 0.0183 - val_mean_squared_error: 0.0183\n",
      "Epoch 93/100\n",
      "100/100 [==============================] - 0s 116us/sample - loss: 0.0228 - mean_squared_error: 0.0228 - val_loss: 0.0184 - val_mean_squared_error: 0.0184\n",
      "Epoch 94/100\n",
      "100/100 [==============================] - 0s 113us/sample - loss: 0.0227 - mean_squared_error: 0.0227 - val_loss: 0.0185 - val_mean_squared_error: 0.0185\n",
      "Epoch 95/100\n",
      "100/100 [==============================] - 0s 124us/sample - loss: 0.0228 - mean_squared_error: 0.0228 - val_loss: 0.0186 - val_mean_squared_error: 0.0186\n"
     ]
    },
    {
     "name": "stdout",
     "output_type": "stream",
     "text": [
      "Epoch 96/100\n",
      "100/100 [==============================] - 0s 132us/sample - loss: 0.0226 - mean_squared_error: 0.0226 - val_loss: 0.0185 - val_mean_squared_error: 0.0185\n",
      "Epoch 97/100\n",
      "100/100 [==============================] - 0s 121us/sample - loss: 0.0226 - mean_squared_error: 0.0226 - val_loss: 0.0184 - val_mean_squared_error: 0.0184\n",
      "Epoch 98/100\n",
      "100/100 [==============================] - 0s 125us/sample - loss: 0.0226 - mean_squared_error: 0.0226 - val_loss: 0.0185 - val_mean_squared_error: 0.0185\n",
      "Epoch 99/100\n",
      "100/100 [==============================] - 0s 113us/sample - loss: 0.0226 - mean_squared_error: 0.0226 - val_loss: 0.0185 - val_mean_squared_error: 0.0185\n",
      "Epoch 100/100\n",
      "100/100 [==============================] - 0s 140us/sample - loss: 0.0226 - mean_squared_error: 0.0226 - val_loss: 0.0184 - val_mean_squared_error: 0.0184\n"
     ]
    }
   ],
   "source": [
    "# fit the model using training dataset\n",
    "# over 10 epochs of 32 batch size each\n",
    "# report training progress against validation data\n",
    "history = model.fit(x=x_train, y=y_train, \n",
    "          batch_size=16, epochs=100,\n",
    "          shuffle=True, # a good idea is to shuffle input before at each epoch\n",
    "          validation_data=(x_valid, y_valid))"
   ]
  },
  {
   "cell_type": "code",
   "execution_count": 7,
   "metadata": {},
   "outputs": [
    {
     "data": {
      "text/plain": [
       "[array([[2.0138013]], dtype=float32), array([1.0186657], dtype=float32)]"
      ]
     },
     "execution_count": 7,
     "metadata": {},
     "output_type": "execute_result"
    }
   ],
   "source": [
    "# return weights\n",
    "model.get_weights()"
   ]
  },
  {
   "cell_type": "code",
   "execution_count": 8,
   "metadata": {},
   "outputs": [
    {
     "name": "stdout",
     "output_type": "stream",
     "text": [
      "10/10 [==============================] - 0s 99us/sample - loss: 0.0184 - mean_squared_error: 0.0184\n",
      "\n",
      "Test loss: 0.01838289014995098\n",
      "mse: 0.01838289\n"
     ]
    }
   ],
   "source": [
    "# evaluate model\n",
    "score = model.evaluate(x_valid, y_valid, batch_size=32, verbose=1)\n",
    "\n",
    "# print performance\n",
    "print()\n",
    "print('Test loss:', score[0])\n",
    "print('mse:', score[1])"
   ]
  },
  {
   "cell_type": "code",
   "execution_count": 9,
   "metadata": {},
   "outputs": [
    {
     "name": "stdout",
     "output_type": "stream",
     "text": [
      "10/10 [==============================] - 0s 88us/sample - loss: 4.8658e-04 - mean_squared_error: 4.8658e-04\n",
      "\n",
      "Test loss: 0.00048658213927410543\n",
      "mse: 0.00048658214\n"
     ]
    }
   ],
   "source": [
    "# evaluate model with the exact curve\n",
    "score = model.evaluate(x_valid, y_target, batch_size=32, verbose=1)\n",
    "\n",
    "# print performance\n",
    "print()\n",
    "print('Test loss:', score[0])\n",
    "print('mse:', score[1])"
   ]
  },
  {
   "cell_type": "code",
   "execution_count": 10,
   "metadata": {},
   "outputs": [
    {
     "data": {
      "image/png": "[encoded data removed]",
      "text/plain": [
       "<Figure size 432x288 with 1 Axes>"
      ]
     },
     "metadata": {},
     "output_type": "display_data"
    }
   ],
   "source": [
    "# look into training history\n",
    "# Plot training & validation loss values\n",
    "plt.plot(history.history['loss'])\n",
    "plt.plot(history.history['val_loss'])\n",
    "plt.title('Model loss')\n",
    "plt.ylabel('Loss')\n",
    "plt.xlabel('Epoch')\n",
    "plt.legend(['Train', 'Test'], loc='best')\n",
    "plt.show()"
   ]
  },
  {
   "cell_type": "code",
   "execution_count": 11,
   "metadata": {},
   "outputs": [
    {
     "data": {
      "image/png": "[encoded data removed]",
      "text/plain": [
       "<Figure size 432x288 with 1 Axes>"
      ]
     },
     "metadata": {},
     "output_type": "display_data"
    }
   ],
   "source": [
    "x_predicted = np.random.uniform(-1, 1, 100)\n",
    "y_predicted = model.predict(x_predicted)\n",
    "plt.scatter(x_predicted, y_predicted,color='r')\n",
    "plt.plot(x_valid, y_target)\n",
    "plt.grid(True)\n",
    "plt.show()"
   ]
  },
  {
   "cell_type": "markdown",
   "metadata": {},
   "source": [
    "# es11.2\n",
    "\n",
    "$$\n",
    "f(x)=4-3x-2x^2+3x^3\n",
    "$$\n",
    "for $x \\in [-1,1]$."
   ]
  },
  {
   "cell_type": "code",
   "execution_count": 12,
   "metadata": {},
   "outputs": [],
   "source": [
    "# target parameters of f(x) = m*x + b\n",
    "a = 4 \n",
    "b = -3\n",
    "c = -2\n",
    "d = 3"
   ]
  },
  {
   "cell_type": "code",
   "execution_count": 13,
   "metadata": {},
   "outputs": [],
   "source": [
    "# generate training inputs\n",
    "np.random.seed(0)\n",
    "x_train = np.random.uniform(-1, 1, 1000)\n",
    "x_valid = np.random.uniform(-1, 1, 100)\n",
    "x_valid.sort()\n",
    "y_target = a + b * x_valid + c * x_valid**2 + d * x_valid**3  # ideal (target) function\n",
    "\n",
    "sigma = 0.1 # noise standard deviation, for the moment it is absent\n",
    "y_train = np.random.normal(a + b * x_train + c * x_train**2 + d * x_train**3, sigma) # actual measures from which we want to guess regression parameters\n",
    "y_valid = np.random.normal(a + b * x_valid + c * x_valid**2 + d * x_valid**3, sigma)"
   ]
  },
  {
   "cell_type": "code",
   "execution_count": 14,
   "metadata": {},
   "outputs": [
    {
     "data": {
      "image/png": "[encoded data removed]",
      "text/plain": [
       "<Figure size 432x288 with 1 Axes>"
      ]
     },
     "metadata": {},
     "output_type": "display_data"
    }
   ],
   "source": [
    "# plot training and target dataset\n",
    "import matplotlib.pyplot as plt\n",
    "plt.plot(x_valid, y_target)\n",
    "plt.scatter(x_valid, y_valid, color='r')\n",
    "plt.grid(True); plt.show()"
   ]
  },
  {
   "cell_type": "markdown",
   "metadata": {},
   "source": [
    "le prestazioni migliorano variando i seguenti parametri: [max dopo il quale non si osserva un miglioramento]\n",
    " - #layers [5]\n",
    " - #node each layer [15]\n",
    " - activation function = selu 0.0019\n",
    "     (relu though gives better results around the right end of the function)\n",
    " - epoch [60]\n",
    " - batch [32]\n",
    " - noise [0.1]"
   ]
  },
  {
   "cell_type": "code",
   "execution_count": 15,
   "metadata": {},
   "outputs": [
    {
     "name": "stdout",
     "output_type": "stream",
     "text": [
      "_________________________________________________________________\n",
      "Layer (type)                 Output Shape              Param #   \n",
      "=================================================================\n",
      "dense_1 (Dense)              (None, 15)                30        \n",
      "_________________________________________________________________\n",
      "dense_2 (Dense)              (None, 15)                240       \n",
      "_________________________________________________________________\n",
      "dense_3 (Dense)              (None, 15)                240       \n",
      "_________________________________________________________________\n",
      "dense_4 (Dense)              (None, 15)                240       \n",
      "_________________________________________________________________\n",
      "dense_5 (Dense)              (None, 15)                240       \n",
      "_________________________________________________________________\n",
      "dense_6 (Dense)              (None, 1)                 16        \n",
      "=================================================================\n",
      "Total params: 1,006\n",
      "Trainable params: 1,006\n",
      "Non-trainable params: 0\n",
      "_________________________________________________________________\n"
     ]
    }
   ],
   "source": [
    "# compose the NN model\n",
    "activ = 'relu'\n",
    "n_nodes = 15\n",
    "\n",
    "model = tf.keras.Sequential()\n",
    "model.add(Dense(n_nodes, input_shape=(1,), activation=activ))\n",
    "model.add(Dense(n_nodes, activation=activ))\n",
    "model.add(Dense(n_nodes, activation=activ))\n",
    "model.add(Dense(n_nodes, activation=activ))\n",
    "model.add(Dense(n_nodes, activation=activ))\n",
    "#model.add(Dense(n_nodes, activation=activ))\n",
    "#model.add(Dense(n_nodes, activation=activ))\n",
    "#model.add(Dense(n_nodes, activation=activ))\n",
    "\n",
    "model.add(Dense(1))\n",
    "\n",
    "# compile the model choosing optimizer, loss and metrics objects\n",
    "model.compile(optimizer='sgd', loss='mse', metrics=['mse'])\n",
    "# get a summary of our composed model\n",
    "model.summary()"
   ]
  },
  {
   "cell_type": "code",
   "execution_count": 16,
   "metadata": {},
   "outputs": [
    {
     "name": "stdout",
     "output_type": "stream",
     "text": [
      "Train on 1000 samples, validate on 100 samples\n",
      "Epoch 1/60\n",
      "1000/1000 [==============================] - 1s 614us/sample - loss: 3.3979 - mean_squared_error: 3.3979 - val_loss: 0.8612 - val_mean_squared_error: 0.8612\n",
      "Epoch 2/60\n",
      "1000/1000 [==============================] - 0s 89us/sample - loss: 0.4393 - mean_squared_error: 0.4393 - val_loss: 0.7134 - val_mean_squared_error: 0.7134\n",
      "Epoch 3/60\n",
      "1000/1000 [==============================] - 0s 83us/sample - loss: 0.3398 - mean_squared_error: 0.3398 - val_loss: 0.5925 - val_mean_squared_error: 0.5925\n",
      "Epoch 4/60\n",
      "1000/1000 [==============================] - 0s 81us/sample - loss: 0.2729 - mean_squared_error: 0.2729 - val_loss: 0.4055 - val_mean_squared_error: 0.4055\n",
      "Epoch 5/60\n",
      "1000/1000 [==============================] - 0s 86us/sample - loss: 0.2040 - mean_squared_error: 0.2040 - val_loss: 0.2850 - val_mean_squared_error: 0.2850\n",
      "Epoch 6/60\n",
      "1000/1000 [==============================] - 0s 83us/sample - loss: 0.1514 - mean_squared_error: 0.1514 - val_loss: 0.2083 - val_mean_squared_error: 0.2083\n",
      "Epoch 7/60\n",
      "1000/1000 [==============================] - 0s 82us/sample - loss: 0.1148 - mean_squared_error: 0.1148 - val_loss: 0.1678 - val_mean_squared_error: 0.1678\n",
      "Epoch 8/60\n",
      "1000/1000 [==============================] - 0s 93us/sample - loss: 0.0890 - mean_squared_error: 0.0890 - val_loss: 0.1665 - val_mean_squared_error: 0.1665\n",
      "Epoch 9/60\n",
      "1000/1000 [==============================] - 0s 88us/sample - loss: 0.0741 - mean_squared_error: 0.0741 - val_loss: 0.1444 - val_mean_squared_error: 0.1444\n",
      "Epoch 10/60\n",
      "1000/1000 [==============================] - 0s 86us/sample - loss: 0.0612 - mean_squared_error: 0.0612 - val_loss: 0.0944 - val_mean_squared_error: 0.0944\n",
      "Epoch 11/60\n",
      "1000/1000 [==============================] - 0s 86us/sample - loss: 0.0527 - mean_squared_error: 0.0527 - val_loss: 0.0876 - val_mean_squared_error: 0.0876\n",
      "Epoch 12/60\n",
      "1000/1000 [==============================] - 0s 83us/sample - loss: 0.0442 - mean_squared_error: 0.0442 - val_loss: 0.0625 - val_mean_squared_error: 0.0625\n",
      "Epoch 13/60\n",
      "1000/1000 [==============================] - 0s 85us/sample - loss: 0.0381 - mean_squared_error: 0.0381 - val_loss: 0.0580 - val_mean_squared_error: 0.0580\n",
      "Epoch 14/60\n",
      "1000/1000 [==============================] - 0s 88us/sample - loss: 0.0340 - mean_squared_error: 0.0340 - val_loss: 0.0549 - val_mean_squared_error: 0.0549\n",
      "Epoch 15/60\n",
      "1000/1000 [==============================] - 0s 84us/sample - loss: 0.0297 - mean_squared_error: 0.0297 - val_loss: 0.0423 - val_mean_squared_error: 0.0423\n",
      "Epoch 16/60\n",
      "1000/1000 [==============================] - 0s 87us/sample - loss: 0.0281 - mean_squared_error: 0.0281 - val_loss: 0.0567 - val_mean_squared_error: 0.0567\n",
      "Epoch 17/60\n",
      "1000/1000 [==============================] - 0s 85us/sample - loss: 0.0247 - mean_squared_error: 0.0247 - val_loss: 0.0369 - val_mean_squared_error: 0.0369\n",
      "Epoch 18/60\n",
      "1000/1000 [==============================] - 0s 81us/sample - loss: 0.0228 - mean_squared_error: 0.0228 - val_loss: 0.0340 - val_mean_squared_error: 0.0340\n",
      "Epoch 19/60\n",
      "1000/1000 [==============================] - 0s 89us/sample - loss: 0.0214 - mean_squared_error: 0.0214 - val_loss: 0.0327 - val_mean_squared_error: 0.0327\n",
      "Epoch 20/60\n",
      "1000/1000 [==============================] - 0s 85us/sample - loss: 0.0207 - mean_squared_error: 0.0207 - val_loss: 0.0283 - val_mean_squared_error: 0.0283\n",
      "Epoch 21/60\n",
      "1000/1000 [==============================] - 0s 88us/sample - loss: 0.0193 - mean_squared_error: 0.0193 - val_loss: 0.0267 - val_mean_squared_error: 0.0267\n",
      "Epoch 22/60\n",
      "1000/1000 [==============================] - 0s 82us/sample - loss: 0.0175 - mean_squared_error: 0.0175 - val_loss: 0.0237 - val_mean_squared_error: 0.0237\n",
      "Epoch 23/60\n",
      "1000/1000 [==============================] - 0s 82us/sample - loss: 0.0176 - mean_squared_error: 0.0176 - val_loss: 0.0230 - val_mean_squared_error: 0.0230\n",
      "Epoch 24/60\n",
      "1000/1000 [==============================] - 0s 87us/sample - loss: 0.0165 - mean_squared_error: 0.0165 - val_loss: 0.0637 - val_mean_squared_error: 0.0637\n",
      "Epoch 25/60\n",
      "1000/1000 [==============================] - 0s 84us/sample - loss: 0.0170 - mean_squared_error: 0.0170 - val_loss: 0.0208 - val_mean_squared_error: 0.0208\n",
      "Epoch 26/60\n",
      "1000/1000 [==============================] - 0s 80us/sample - loss: 0.0162 - mean_squared_error: 0.0162 - val_loss: 0.0239 - val_mean_squared_error: 0.0239\n",
      "Epoch 27/60\n",
      "1000/1000 [==============================] - 0s 88us/sample - loss: 0.0152 - mean_squared_error: 0.0152 - val_loss: 0.0241 - val_mean_squared_error: 0.0241\n",
      "Epoch 28/60\n",
      "1000/1000 [==============================] - 0s 83us/sample - loss: 0.0145 - mean_squared_error: 0.0145 - val_loss: 0.0194 - val_mean_squared_error: 0.0194\n",
      "Epoch 29/60\n",
      "1000/1000 [==============================] - 0s 81us/sample - loss: 0.0148 - mean_squared_error: 0.0148 - val_loss: 0.0163 - val_mean_squared_error: 0.0163\n",
      "Epoch 30/60\n",
      "1000/1000 [==============================] - 0s 88us/sample - loss: 0.0141 - mean_squared_error: 0.0141 - val_loss: 0.0174 - val_mean_squared_error: 0.0174\n",
      "Epoch 31/60\n",
      "1000/1000 [==============================] - 0s 86us/sample - loss: 0.0132 - mean_squared_error: 0.0132 - val_loss: 0.0307 - val_mean_squared_error: 0.0307\n",
      "Epoch 32/60\n",
      "1000/1000 [==============================] - 0s 88us/sample - loss: 0.0139 - mean_squared_error: 0.0139 - val_loss: 0.0223 - val_mean_squared_error: 0.0223\n",
      "Epoch 33/60\n",
      "1000/1000 [==============================] - 0s 88us/sample - loss: 0.0134 - mean_squared_error: 0.0134 - val_loss: 0.0142 - val_mean_squared_error: 0.0142\n",
      "Epoch 34/60\n",
      "1000/1000 [==============================] - 0s 91us/sample - loss: 0.0135 - mean_squared_error: 0.0135 - val_loss: 0.0222 - val_mean_squared_error: 0.0222\n",
      "Epoch 35/60\n",
      "1000/1000 [==============================] - 0s 82us/sample - loss: 0.0125 - mean_squared_error: 0.0125 - val_loss: 0.0167 - val_mean_squared_error: 0.0167\n",
      "Epoch 36/60\n",
      "1000/1000 [==============================] - 0s 99us/sample - loss: 0.0131 - mean_squared_error: 0.0131 - val_loss: 0.0132 - val_mean_squared_error: 0.0132\n",
      "Epoch 37/60\n",
      "1000/1000 [==============================] - ETA: 0s - loss: 0.0134 - mean_squared_error: 0.01 - 0s 97us/sample - loss: 0.0130 - mean_squared_error: 0.0130 - val_loss: 0.0125 - val_mean_squared_error: 0.0125\n",
      "Epoch 38/60\n",
      "1000/1000 [==============================] - 0s 79us/sample - loss: 0.0122 - mean_squared_error: 0.0122 - val_loss: 0.0128 - val_mean_squared_error: 0.0128\n",
      "Epoch 39/60\n",
      "1000/1000 [==============================] - 0s 80us/sample - loss: 0.0117 - mean_squared_error: 0.0117 - val_loss: 0.0157 - val_mean_squared_error: 0.0157\n",
      "Epoch 40/60\n",
      "1000/1000 [==============================] - 0s 82us/sample - loss: 0.0124 - mean_squared_error: 0.0124 - val_loss: 0.0141 - val_mean_squared_error: 0.0141\n",
      "Epoch 41/60\n",
      "1000/1000 [==============================] - 0s 81us/sample - loss: 0.0129 - mean_squared_error: 0.0129 - val_loss: 0.0118 - val_mean_squared_error: 0.0118\n",
      "Epoch 42/60\n",
      "1000/1000 [==============================] - 0s 82us/sample - loss: 0.0128 - mean_squared_error: 0.0128 - val_loss: 0.0226 - val_mean_squared_error: 0.0226\n",
      "Epoch 43/60\n",
      "1000/1000 [==============================] - 0s 85us/sample - loss: 0.0154 - mean_squared_error: 0.0154 - val_loss: 0.0167 - val_mean_squared_error: 0.0167\n",
      "Epoch 44/60\n",
      "1000/1000 [==============================] - 0s 80us/sample - loss: 0.0131 - mean_squared_error: 0.0131 - val_loss: 0.0133 - val_mean_squared_error: 0.0133\n",
      "Epoch 45/60\n",
      "1000/1000 [==============================] - 0s 85us/sample - loss: 0.0116 - mean_squared_error: 0.0116 - val_loss: 0.0406 - val_mean_squared_error: 0.0406\n",
      "Epoch 46/60\n",
      "1000/1000 [==============================] - 0s 85us/sample - loss: 0.0119 - mean_squared_error: 0.0119 - val_loss: 0.0154 - val_mean_squared_error: 0.0154\n",
      "Epoch 47/60\n",
      "1000/1000 [==============================] - 0s 85us/sample - loss: 0.0120 - mean_squared_error: 0.0120 - val_loss: 0.0170 - val_mean_squared_error: 0.0170\n",
      "Epoch 48/60\n",
      "1000/1000 [==============================] - 0s 80us/sample - loss: 0.0126 - mean_squared_error: 0.0126 - val_loss: 0.0273 - val_mean_squared_error: 0.0273\n",
      "Epoch 49/60\n"
     ]
    },
    {
     "name": "stdout",
     "output_type": "stream",
     "text": [
      "1000/1000 [==============================] - 0s 86us/sample - loss: 0.0164 - mean_squared_error: 0.0164 - val_loss: 0.0130 - val_mean_squared_error: 0.0130\n",
      "Epoch 50/60\n",
      "1000/1000 [==============================] - 0s 85us/sample - loss: 0.0114 - mean_squared_error: 0.0114 - val_loss: 0.0126 - val_mean_squared_error: 0.0126\n",
      "Epoch 51/60\n",
      "1000/1000 [==============================] - 0s 84us/sample - loss: 0.0119 - mean_squared_error: 0.0119 - val_loss: 0.0113 - val_mean_squared_error: 0.0113\n",
      "Epoch 52/60\n",
      "1000/1000 [==============================] - 0s 85us/sample - loss: 0.0111 - mean_squared_error: 0.0111 - val_loss: 0.0208 - val_mean_squared_error: 0.0208\n",
      "Epoch 53/60\n",
      "1000/1000 [==============================] - 0s 84us/sample - loss: 0.0128 - mean_squared_error: 0.0128 - val_loss: 0.0159 - val_mean_squared_error: 0.0159\n",
      "Epoch 54/60\n",
      "1000/1000 [==============================] - 0s 87us/sample - loss: 0.0122 - mean_squared_error: 0.0122 - val_loss: 0.0142 - val_mean_squared_error: 0.0142\n",
      "Epoch 55/60\n",
      "1000/1000 [==============================] - 0s 88us/sample - loss: 0.0125 - mean_squared_error: 0.0125 - val_loss: 0.0116 - val_mean_squared_error: 0.0116\n",
      "Epoch 56/60\n",
      "1000/1000 [==============================] - 0s 83us/sample - loss: 0.0117 - mean_squared_error: 0.0117 - val_loss: 0.0125 - val_mean_squared_error: 0.0125\n",
      "Epoch 57/60\n",
      "1000/1000 [==============================] - 0s 99us/sample - loss: 0.0111 - mean_squared_error: 0.0111 - val_loss: 0.0109 - val_mean_squared_error: 0.0109\n",
      "Epoch 58/60\n",
      "1000/1000 [==============================] - 0s 107us/sample - loss: 0.0111 - mean_squared_error: 0.0111 - val_loss: 0.0104 - val_mean_squared_error: 0.0104\n",
      "Epoch 59/60\n",
      "1000/1000 [==============================] - 0s 108us/sample - loss: 0.0115 - mean_squared_error: 0.0115 - val_loss: 0.0102 - val_mean_squared_error: 0.0102\n",
      "Epoch 60/60\n",
      "1000/1000 [==============================] - 0s 104us/sample - loss: 0.0118 - mean_squared_error: 0.0118 - val_loss: 0.0107 - val_mean_squared_error: 0.0107\n"
     ]
    }
   ],
   "source": [
    "# fit the model using training dataset\n",
    "# over 10 epochs of 32 batch size each\n",
    "# report training progress against validation data\n",
    "history = model.fit(x=x_train, y=y_train, \n",
    "          batch_size=32, epochs=60,\n",
    "          shuffle=True, # a good idea is to shuffle input before at each epoch\n",
    "          validation_data=(x_valid, y_valid))"
   ]
  },
  {
   "cell_type": "code",
   "execution_count": 17,
   "metadata": {},
   "outputs": [
    {
     "data": {
      "text/plain": [
       "[array([[ 0.1237992 ,  0.03787076, -0.7018462 , -0.20952387,  0.3088694 ,\n",
       "          0.43742216, -0.5993185 , -0.4719058 ,  0.5225871 , -0.34439158,\n",
       "          0.24414958,  0.20599568,  0.5156519 ,  0.12555522, -0.03923372]],\n",
       "       dtype=float32),\n",
       " array([ 0.12279721,  0.11592727, -0.42944086,  0.33844918, -0.1243764 ,\n",
       "         0.31702414, -0.19722064, -0.20870085,  0.06324575, -0.0746621 ,\n",
       "         0.01283646,  0.15262629,  0.05366666,  0.08916245,  0.14796686],\n",
       "       dtype=float32),\n",
       " array([[ 1.23424158e-01, -1.68079302e-01, -2.51873225e-01,\n",
       "         -4.50686187e-01,  1.97469205e-01, -4.21335697e-01,\n",
       "          2.53433466e-01,  3.36541533e-02,  3.10117245e-01,\n",
       "          1.04397178e-01,  3.56640607e-01, -3.44668746e-01,\n",
       "         -1.88094661e-01,  2.99649090e-01, -1.73860013e-01],\n",
       "        [-4.23511595e-01, -1.19957782e-01, -3.39530468e-01,\n",
       "         -9.11042932e-03, -1.78717792e-01, -4.84195687e-02,\n",
       "          3.27213198e-01,  4.16094452e-01, -2.19796151e-02,\n",
       "         -3.40570450e-01,  2.92433619e-01,  6.35275841e-02,\n",
       "          2.61204362e-01, -3.49238724e-01, -3.34534228e-01],\n",
       "        [ 2.20774412e-01, -2.38523036e-01,  4.31391597e-01,\n",
       "         -5.12295291e-02, -3.74988645e-01,  2.81255543e-01,\n",
       "         -1.58647954e-01, -6.51732147e-01, -5.38573682e-01,\n",
       "          2.61663198e-01,  1.85974892e-02,  2.78265893e-01,\n",
       "         -4.03166294e-01,  5.17700277e-02, -1.42618507e-01],\n",
       "        [-1.43871009e-01,  2.70252883e-01,  3.99367571e-01,\n",
       "          3.39022249e-01, -3.85752261e-01, -2.11254835e-01,\n",
       "          2.74235517e-01,  3.30493093e-01,  2.57419050e-01,\n",
       "          4.08269465e-01,  3.78069282e-01,  3.52533162e-02,\n",
       "          2.25392923e-01,  1.26257136e-01,  1.79026932e-01],\n",
       "        [-3.53589445e-01, -4.02357221e-01,  3.00714970e-01,\n",
       "          1.78352952e-01, -1.73875794e-01,  2.97405213e-01,\n",
       "          3.54564607e-01,  1.25584528e-01, -1.34870738e-01,\n",
       "          3.99775147e-01,  3.78510535e-01, -1.83884561e-01,\n",
       "          3.32272440e-01, -1.84590623e-01, -2.00731307e-01],\n",
       "        [-2.76755821e-02,  4.10141144e-03, -1.95849631e-02,\n",
       "          3.55754972e-01, -6.23761350e-03, -3.71412963e-01,\n",
       "          3.51569541e-02, -3.85235190e-01, -3.70527923e-01,\n",
       "          3.26112449e-01,  7.92633146e-02, -8.37575570e-02,\n",
       "         -5.13065457e-02, -2.37878278e-01,  2.42847532e-01],\n",
       "        [-3.51833493e-01, -3.34325790e-01,  1.57262415e-01,\n",
       "          1.62105352e-01,  2.57295728e-01, -1.05824143e-01,\n",
       "          1.18782572e-01, -4.51064169e-01,  3.14883445e-03,\n",
       "         -3.40613633e-01, -3.72293830e-01, -4.25873846e-01,\n",
       "         -1.53849036e-01, -3.96802008e-01, -2.13779271e-01],\n",
       "        [ 4.39553320e-01, -2.87273228e-01, -3.98766935e-01,\n",
       "          3.71476501e-01,  1.49504662e-01, -8.82229209e-03,\n",
       "         -1.73772201e-01, -2.29743704e-01,  2.33909547e-01,\n",
       "          1.81512520e-01, -3.94708142e-02, -1.62771165e-01,\n",
       "         -3.24902773e-01, -3.87669146e-01, -3.44562754e-02],\n",
       "        [ 2.98642099e-01, -1.03484496e-01,  2.47082591e-01,\n",
       "         -2.21108049e-01, -1.13159031e-01, -7.89039731e-02,\n",
       "          1.64019898e-01,  3.77457403e-02, -4.38322008e-01,\n",
       "          3.00322920e-01, -3.99022400e-01,  4.31653559e-01,\n",
       "          3.63744497e-01,  1.73385397e-01,  4.61427182e-01],\n",
       "        [ 2.78473079e-01, -2.17220243e-02, -3.53841066e-01,\n",
       "         -3.00962552e-02,  4.01124597e-01, -3.94056380e-01,\n",
       "          5.97109906e-02, -4.23151076e-01, -1.00327626e-01,\n",
       "          1.68545023e-02, -3.53473336e-01, -3.76395941e-01,\n",
       "          5.43991162e-04,  2.35640645e-01, -1.94574624e-01],\n",
       "        [-3.55741352e-01,  1.98719859e-01, -1.85810000e-01,\n",
       "         -4.00969565e-01,  4.62649576e-02,  7.45175928e-02,\n",
       "         -3.68250579e-01, -4.51210201e-01,  3.15996647e-01,\n",
       "         -3.85993242e-01,  3.53131086e-01,  3.47055614e-01,\n",
       "         -4.14300680e-01,  2.50597537e-01, -1.69857994e-01],\n",
       "        [ 7.23876283e-02, -1.98320910e-01, -4.09949005e-01,\n",
       "         -8.51628259e-02,  1.38147220e-01,  1.43686354e-01,\n",
       "         -3.98877054e-01, -2.32632980e-01,  3.52540731e-01,\n",
       "         -3.28058720e-01,  5.81775680e-02, -2.78253824e-01,\n",
       "         -2.11871386e-01, -3.99097979e-01,  3.10598135e-01],\n",
       "        [ 4.17787492e-01,  2.88358569e-01,  3.23960125e-01,\n",
       "         -3.05746675e-01,  4.46455419e-01,  5.54332510e-02,\n",
       "         -2.71710962e-01,  4.19565849e-02, -2.79077768e-01,\n",
       "          1.40906230e-01, -2.05195531e-01, -2.08639383e-01,\n",
       "          7.57504180e-02,  1.20770678e-01, -2.37031933e-03],\n",
       "        [-3.58097285e-01,  3.29823613e-01,  3.91066074e-01,\n",
       "         -2.99808681e-01,  3.96522671e-01,  3.24208409e-01,\n",
       "         -2.01235756e-01, -2.78761923e-01,  1.08915441e-01,\n",
       "          3.38609189e-01,  2.59477913e-01, -2.95946360e-01,\n",
       "          5.45446388e-02, -3.17659229e-01, -2.55576491e-01],\n",
       "        [-3.88040602e-01,  4.25398231e-01, -2.31085792e-01,\n",
       "          3.91024172e-01, -2.73671687e-01,  3.30606997e-01,\n",
       "          3.41137797e-01,  2.22138822e-01,  1.00685777e-02,\n",
       "          3.51307958e-01,  2.32898578e-01, -4.25197423e-01,\n",
       "          2.10581630e-01,  9.73190293e-02,  4.11501490e-02]], dtype=float32),\n",
       " array([ 0.0407223 ,  0.06382379,  0.04917775, -0.05997976,  0.0063187 ,\n",
       "        -0.01260701,  0.02860587,  0.2729773 ,  0.19686998,  0.00413543,\n",
       "         0.05041786, -0.00366458,  0.07361995,  0.12352005,  0.05227468],\n",
       "       dtype=float32),\n",
       " array([[-9.25590992e-02, -1.16450667e-01, -1.21238291e-01,\n",
       "          3.11354935e-01, -2.88486302e-01, -2.51286358e-01,\n",
       "          3.86794090e-01, -4.02015001e-01,  3.02302182e-01,\n",
       "         -3.99861038e-01, -1.83465302e-01, -9.51613337e-02,\n",
       "          2.46199027e-01,  4.12894934e-01,  4.66991290e-02],\n",
       "        [ 2.01322436e-01, -1.12569220e-01,  2.61421829e-01,\n",
       "          2.67975122e-01,  3.26601326e-01, -9.72931832e-03,\n",
       "         -3.23110729e-01,  3.75955969e-01,  4.69932556e-02,\n",
       "         -5.61420955e-02,  2.17924595e-01,  5.92633113e-02,\n",
       "         -2.09490582e-01,  5.80621324e-02,  2.68541336e-01],\n",
       "        [-3.58264565e-01,  4.31188583e-01, -1.51266120e-02,\n",
       "         -1.97932884e-01,  1.48647279e-01, -2.42387295e-01,\n",
       "         -2.64871210e-01, -1.21985823e-01,  1.19642735e-01,\n",
       "          3.34356010e-01, -3.03747356e-01,  4.16078269e-01,\n",
       "         -3.44244659e-01,  1.60288334e-01,  1.59769565e-01],\n",
       "        [-2.47442946e-01, -2.65263647e-01, -1.46003813e-01,\n",
       "         -2.09095795e-02, -3.72971356e-01, -4.27059829e-01,\n",
       "          2.05202848e-02, -3.99816662e-01,  3.42496336e-01,\n",
       "         -3.95399407e-02, -4.28678691e-02,  2.88069225e-03,\n",
       "          1.90147310e-01, -2.48338327e-01, -3.21725130e-01],\n",
       "        [-3.04212749e-01, -2.71961868e-01, -5.16101792e-02,\n",
       "          1.72206044e-01,  4.15644169e-01,  5.87740876e-02,\n",
       "         -2.84247398e-01, -1.68914303e-01, -3.54978144e-01,\n",
       "          2.09560350e-01,  2.91582704e-01,  1.84490219e-01,\n",
       "          2.47222617e-01,  1.18453369e-01,  1.83558509e-01],\n",
       "        [-4.11771098e-03,  3.51073384e-01, -2.09213510e-01,\n",
       "          1.49426058e-01,  1.69181138e-01,  1.84255868e-01,\n",
       "         -1.60118267e-01, -3.39923143e-01, -1.79181576e-01,\n",
       "          2.05862373e-02, -3.54898602e-01, -2.73637116e-01,\n",
       "         -8.57126936e-02,  3.40146035e-01, -4.10267115e-01],\n",
       "        [ 3.93454343e-01, -2.47931212e-01, -1.90743193e-01,\n",
       "          1.93498224e-01,  1.97782010e-01, -2.78394639e-01,\n",
       "          1.53356180e-01, -2.56888419e-01, -4.18117821e-01,\n",
       "         -1.87803105e-01, -2.31205776e-01,  4.69138063e-02,\n",
       "         -2.57236779e-01,  2.59310544e-01,  1.59798831e-01],\n",
       "        [ 6.91841543e-01,  2.30425298e-01, -2.52829850e-01,\n",
       "          5.35718918e-01,  3.76194507e-01,  2.45925924e-03,\n",
       "          1.00846246e-01, -3.81422400e-01,  2.57473588e-02,\n",
       "          4.58644539e-01,  4.81135547e-02,  4.26470339e-01,\n",
       "          2.44863212e-01,  9.55464169e-02,  6.63920343e-02],\n",
       "        [ 3.96069020e-01,  2.17510313e-01, -4.28001463e-01,\n",
       "          7.56917670e-02, -7.62706175e-02, -4.01498646e-01,\n",
       "          4.08112556e-01, -1.99558571e-01, -2.98512518e-01,\n",
       "          3.76234353e-01, -1.58239216e-01,  3.74410562e-02,\n",
       "          3.08112770e-01, -2.15321764e-01,  4.29086596e-01],\n",
       "        [-3.98713201e-01,  2.59706765e-01, -4.86026518e-02,\n",
       "          1.86288849e-01, -1.87424019e-01, -1.02306820e-01,\n",
       "         -2.45558500e-01,  2.52654523e-01, -2.08779976e-01,\n",
       "         -2.24388778e-01, -1.31120145e-01,  2.59204030e-01,\n",
       "         -4.49901581e-01, -9.35240984e-02, -5.33394031e-02],\n",
       "        [ 4.02119815e-01,  3.79430711e-01, -2.91521251e-01,\n",
       "         -1.90508813e-01, -1.40864879e-01, -1.39613271e-01,\n",
       "          2.17745155e-02, -2.38328636e-01, -5.61396778e-02,\n",
       "          1.23976655e-01, -2.96430260e-01, -4.41046923e-01,\n",
       "          4.34830338e-01, -9.51246023e-02,  3.42682928e-01],\n",
       "        [-8.43578428e-02,  9.54797268e-02,  3.91925983e-02,\n",
       "         -1.16973303e-01,  1.96072459e-01, -2.14664452e-02,\n",
       "          3.74074817e-01, -4.11296636e-01, -4.09957439e-01,\n",
       "         -6.86860457e-03,  4.38348413e-01,  5.66019677e-02,\n",
       "          2.89856791e-01, -3.37278157e-01, -3.54834169e-01],\n",
       "        [ 3.19802463e-01,  7.23786503e-02,  3.50560427e-01,\n",
       "          4.13605958e-01,  2.41279528e-02,  1.32112473e-01,\n",
       "         -2.20877863e-02,  2.59894162e-01, -2.14541405e-01,\n",
       "          5.58964312e-02, -1.74970567e-01, -4.37620670e-01,\n",
       "          1.66471168e-01,  1.48030326e-01, -1.31605014e-01],\n",
       "        [ 4.67286170e-01, -1.07103519e-01,  8.58946219e-02,\n",
       "         -8.52512121e-02,  2.95974046e-01,  1.29196510e-01,\n",
       "          2.27107376e-01, -6.53146729e-02,  1.80160165e-01,\n",
       "          3.18672806e-01, -1.83910549e-01,  2.67170131e-01,\n",
       "          1.64509006e-02, -2.61765182e-01, -1.93179160e-01],\n",
       "        [ 1.49687668e-02,  1.65080637e-01,  2.48889402e-01,\n",
       "         -4.51695949e-01, -6.74668641e-04,  3.97049099e-01,\n",
       "         -5.19851036e-02,  4.12020177e-01, -1.12727612e-01,\n",
       "         -4.38021004e-01, -3.90150636e-01,  7.16992542e-02,\n",
       "         -2.41386279e-01,  2.03887280e-02,  4.06341255e-01]], dtype=float32),\n",
       " array([ 0.08407199,  0.06010686, -0.03614177,  0.03900216,  0.12766337,\n",
       "        -0.03606576, -0.03562097,  0.0869458 ,  0.        ,  0.09027199,\n",
       "         0.        , -0.04387528,  0.0674699 , -0.00743801, -0.04710675],\n",
       "       dtype=float32),\n",
       " array([[-0.4009042 , -0.00866135,  0.5815901 , -0.28771073,  0.46213952,\n",
       "          0.5166441 ,  0.5988368 , -0.10290129,  0.00170294,  0.10181978,\n",
       "          0.4148277 , -0.08104032, -0.39516422,  0.22386459, -0.18676874],\n",
       "        [-0.16362533,  0.06439177,  0.47094303, -0.03548181, -0.29668325,\n",
       "          0.32969356, -0.27191648,  0.4318442 ,  0.10723338,  0.2974157 ,\n",
       "          0.14236021, -0.35931027, -0.10322645,  0.2823474 ,  0.06743044],\n",
       "        [ 0.3366031 ,  0.10956831,  0.33437496,  0.13751984,  0.4271135 ,\n",
       "         -0.01001991, -0.25883162, -0.36182985,  0.37855408,  0.08401959,\n",
       "         -0.06282555,  0.25368077,  0.32930285, -0.10709955, -0.16222557],\n",
       "        [-0.10506541,  0.26190355,  0.19633444, -0.36848825,  0.3856763 ,\n",
       "          0.38388458,  0.10548303,  0.14108026, -0.38883147,  0.2843931 ,\n",
       "          0.38211963, -0.04331087,  0.02224955, -0.07724462, -0.42247427],\n",
       "        [ 0.22431499,  0.1012332 ,  0.4374379 , -0.30868638, -0.09912888,\n",
       "          0.0970365 ,  0.35437986, -0.1262597 , -0.39619854, -0.05438584,\n",
       "         -0.34584862,  0.1600399 ,  0.05588984,  0.3052299 ,  0.01487789],\n",
       "        [ 0.33673054, -0.21149299,  0.06878306,  0.37901312,  0.38514572,\n",
       "         -0.09528127,  0.17135158, -0.03847292,  0.22065216, -0.07742974,\n",
       "          0.13934608, -0.40382016, -0.07651809,  0.2280741 , -0.24385288],\n",
       "        [-0.38980326, -0.23380291,  0.11884226, -0.41068313,  0.258203  ,\n",
       "         -0.41311273, -0.29746312,  0.09464418, -0.20588715,  0.03284667,\n",
       "          0.30878335,  0.26542658,  0.07563543, -0.2893279 , -0.326544  ],\n",
       "        [-0.3715005 ,  0.20821697, -0.37428176, -0.01949385,  0.01196444,\n",
       "         -0.41859657, -0.17567348, -0.02530551, -0.22766837, -0.07333524,\n",
       "          0.21796478, -0.10019109, -0.3522667 , -0.03862172, -0.33192733],\n",
       "        [-0.38082647, -0.15097055, -0.07289618,  0.29626435,  0.16737306,\n",
       "         -0.30949736,  0.33547652,  0.01822183,  0.27828795,  0.41310275,\n",
       "         -0.42364702,  0.21650988, -0.26505336,  0.4221645 , -0.03163075],\n",
       "        [ 0.03510842, -0.3957902 ,  0.5436309 ,  0.27053162,  0.26045817,\n",
       "          0.22373301, -0.08633742, -0.04633517,  0.38590822, -0.39646462,\n",
       "          0.06673784, -0.22532576, -0.43615636,  0.21767734, -0.38543713],\n",
       "        [ 0.04591912, -0.10293025,  0.37159902, -0.14005417,  0.14154404,\n",
       "         -0.18635139,  0.1338284 , -0.34242743,  0.18364441, -0.36243105,\n",
       "         -0.06357107,  0.39568025, -0.09861058, -0.20174663, -0.40321347],\n",
       "        [-0.29867405,  0.39083138,  0.2141165 ,  0.210101  ,  0.3138302 ,\n",
       "         -0.20380801, -0.07519371, -0.07479424, -0.42879033,  0.2133728 ,\n",
       "          0.42641518,  0.07772177, -0.22218134, -0.3796062 , -0.11673573],\n",
       "        [ 0.28260046, -0.06430328,  0.17708346,  0.06564736, -0.31562445,\n",
       "          0.40154007,  0.31510782,  0.26278925, -0.37329367, -0.38725668,\n",
       "         -0.13725196, -0.02812994,  0.10734373,  0.30325508, -0.38924584],\n",
       "        [ 0.23393911, -0.35595414, -0.07795986,  0.00431392,  0.21349788,\n",
       "         -0.38204703,  0.21653019, -0.10437181,  0.37423763,  0.00879783,\n",
       "         -0.423072  , -0.09821352, -0.16275701,  0.42295253, -0.0440565 ],\n",
       "        [-0.01242682, -0.16506709,  0.08999911, -0.04731697, -0.24589531,\n",
       "          0.22340506, -0.21693102, -0.19330527, -0.18724242, -0.40825772,\n",
       "         -0.19349428,  0.08992553,  0.02501932, -0.01719362, -0.21239762]],\n",
       "       dtype=float32),\n",
       " array([ 0.0000000e+00,  1.4830782e-02,  2.5839010e-01, -3.0632793e-05,\n",
       "         1.5379810e-02,  2.7118921e-02,  1.1958324e-01, -5.5674601e-02,\n",
       "         7.1697142e-03,  6.9826104e-02,  5.7201525e-03, -7.3814848e-03,\n",
       "         0.0000000e+00, -5.8893494e-02,  0.0000000e+00], dtype=float32),\n",
       " array([[ 0.20805246, -0.18069127, -0.30622134, -0.10017806,  0.18435371,\n",
       "          0.26782262,  0.2650525 , -0.13873139, -0.3459519 ,  0.4034198 ,\n",
       "          0.4033296 , -0.15060848,  0.296201  ,  0.10990936,  0.06369144],\n",
       "        [-0.3114324 , -0.05786778, -0.04014033,  0.41637862,  0.08970654,\n",
       "          0.04512629, -0.1727726 , -0.16339663, -0.29137337, -0.16973196,\n",
       "         -0.20472635,  0.44385824, -0.36871046, -0.32765308, -0.29087707],\n",
       "        [ 0.20819654,  0.21722813, -0.28900272,  0.06143018,  0.34651086,\n",
       "         -0.10407954,  0.6011594 , -0.30050084,  0.3990095 ,  0.57674706,\n",
       "          0.11156668,  0.10687762,  0.19689308, -0.4238834 , -0.27593732],\n",
       "        [ 0.15910947, -0.3779229 ,  0.00434685,  0.31767976, -0.25712907,\n",
       "         -0.33916366,  0.29584098, -0.3995019 , -0.375755  ,  0.2843328 ,\n",
       "         -0.23223193,  0.35628098, -0.4179632 , -0.20043004,  0.05568546],\n",
       "        [ 0.41305864,  0.527621  , -0.23308738, -0.42537454,  0.10536245,\n",
       "          0.03821597,  0.32942107,  0.11468148, -0.23369375, -0.17822467,\n",
       "          0.19498327, -0.09282532, -0.4031743 ,  0.11436246, -0.28314918],\n",
       "        [ 0.41565347,  0.4293074 , -0.37769994,  0.18232626, -0.11248461,\n",
       "         -0.18491027,  0.3988241 , -0.28390855, -0.2649986 ,  0.32095376,\n",
       "          0.23390116,  0.09428516, -0.00634555,  0.41611427, -0.05959025],\n",
       "        [ 0.16682549, -0.00500571, -0.0868682 ,  0.0308987 , -0.06944045,\n",
       "          0.1472755 ,  0.38909572, -0.24814802,  0.45972443,  0.49028718,\n",
       "          0.26871198,  0.21288638,  0.11512508,  0.33270365, -0.34912568],\n",
       "        [ 0.11109851, -0.18932667, -0.23402257,  0.34786886,  0.06590456,\n",
       "         -0.18444699, -0.42623115,  0.1350438 ,  0.33645874, -0.44078648,\n",
       "         -0.2776054 ,  0.31556624, -0.17934828, -0.05994597, -0.41928694],\n",
       "        [-0.06272262, -0.05846146, -0.10332957,  0.02731618,  0.2706629 ,\n",
       "          0.29753512,  0.05964631, -0.19186014,  0.1091043 , -0.18688193,\n",
       "          0.21277428,  0.15999745,  0.22618878, -0.0876185 ,  0.30558223],\n",
       "        [ 0.3174089 , -0.24351983,  0.36763537,  0.3974336 , -0.16298024,\n",
       "          0.09988803, -0.15844095, -0.12843919,  0.11606725, -0.06680746,\n",
       "         -0.30232468,  0.26068187,  0.37288228, -0.37331256,  0.05408853],\n",
       "        [ 0.16760617, -0.0483903 , -0.23183486, -0.20513365, -0.02116267,\n",
       "         -0.12657702,  0.32299224, -0.22965312, -0.04776511,  0.29273438,\n",
       "          0.05297146, -0.14526655, -0.3392721 ,  0.06266729,  0.24089342],\n",
       "        [ 0.07009858, -0.05909007, -0.09386316, -0.33627567,  0.30643365,\n",
       "          0.43693608, -0.19595076,  0.11354691, -0.12060669, -0.39549634,\n",
       "         -0.30410564, -0.07214567, -0.00967923, -0.28483272,  0.13956499],\n",
       "        [-0.31016845, -0.35530442, -0.4052293 , -0.30932963, -0.03734112,\n",
       "         -0.06944615, -0.18436137,  0.19748783,  0.04450935,  0.15779746,\n",
       "          0.14763421, -0.40539575,  0.20844358, -0.23812984, -0.37096855],\n",
       "        [ 0.25860506, -0.26503515, -0.24734908, -0.05362832, -0.31445354,\n",
       "          0.04240865,  0.28504795, -0.35580248, -0.17744258,  0.12159196,\n",
       "         -0.28956237,  0.01822948, -0.45842844, -0.15709719,  0.15881044],\n",
       "        [ 0.31420833, -0.1732859 ,  0.01318192, -0.23679385, -0.20241304,\n",
       "         -0.32188377,  0.08319181,  0.2793461 ,  0.43767083,  0.0153434 ,\n",
       "         -0.01969814,  0.44499004, -0.06554276,  0.22417158, -0.37933823]],\n",
       "       dtype=float32),\n",
       " array([-0.04318416,  0.24670187,  0.        ,  0.01527694,  0.09875993,\n",
       "         0.        ,  0.28146905,  0.        ,  0.13156055,  0.21744621,\n",
       "        -0.03367918,  0.13963152,  0.03650665, -0.06025494,  0.        ],\n",
       "       dtype=float32),\n",
       " array([[ 0.228596  ],\n",
       "        [ 0.6569685 ],\n",
       "        [-0.38451576],\n",
       "        [-0.09018809],\n",
       "        [ 0.22205754],\n",
       "        [-0.08071005],\n",
       "        [ 0.9588863 ],\n",
       "        [-0.03829604],\n",
       "        [ 0.3351473 ],\n",
       "        [ 0.7510981 ],\n",
       "        [ 0.09357431],\n",
       "        [ 0.3734348 ],\n",
       "        [-0.5755139 ],\n",
       "        [-0.41897953],\n",
       "        [ 0.00966322]], dtype=float32),\n",
       " array([0.57130593], dtype=float32)]"
      ]
     },
     "execution_count": 17,
     "metadata": {},
     "output_type": "execute_result"
    }
   ],
   "source": [
    "# return weights\n",
    "model.get_weights()"
   ]
  },
  {
   "cell_type": "code",
   "execution_count": 18,
   "metadata": {},
   "outputs": [
    {
     "name": "stdout",
     "output_type": "stream",
     "text": [
      "100/100 [==============================] - 0s 112us/sample - loss: 0.0107 - mean_squared_error: 0.0107\n",
      "\n",
      "Test loss: 0.010684096477925778\n",
      "mse: 0.010684097\n"
     ]
    }
   ],
   "source": [
    "# evaluate model\n",
    "score = model.evaluate(x_valid, y_valid, batch_size=32, verbose=1)\n",
    "\n",
    "# print performance\n",
    "print()\n",
    "print('Test loss:', score[0])\n",
    "print('mse:', score[1])"
   ]
  },
  {
   "cell_type": "code",
   "execution_count": 19,
   "metadata": {},
   "outputs": [
    {
     "name": "stdout",
     "output_type": "stream",
     "text": [
      "100/100 [==============================] - 0s 149us/sample - loss: 0.0020 - mean_squared_error: 0.0020\n",
      "\n",
      "Test loss: 0.0020134791266173124\n",
      "mse: 0.0020134791\n"
     ]
    }
   ],
   "source": [
    "# evaluate model with the exact curve\n",
    "score = model.evaluate(x_valid, y_target, batch_size=32, verbose=1)\n",
    "\n",
    "# print performance\n",
    "print()\n",
    "print('Test loss:', score[0])\n",
    "print('mse:', score[1])"
   ]
  },
  {
   "cell_type": "code",
   "execution_count": 20,
   "metadata": {},
   "outputs": [
    {
     "data": {
      "image/png": "[encoded data removed]",
      "text/plain": [
       "<Figure size 432x288 with 1 Axes>"
      ]
     },
     "metadata": {},
     "output_type": "display_data"
    }
   ],
   "source": [
    "# look into training history\n",
    "# Plot training & validation loss values\n",
    "plt.plot(history.history['loss'])\n",
    "plt.plot(history.history['val_loss'])\n",
    "plt.title('Model loss')\n",
    "plt.ylabel('Loss')\n",
    "plt.xlabel('Epoch')\n",
    "plt.legend(['Train', 'Test'], loc='best')\n",
    "plt.show()"
   ]
  },
  {
   "cell_type": "code",
   "execution_count": 21,
   "metadata": {},
   "outputs": [
    {
     "data": {
      "image/png": "[encoded data removed]",
      "text/plain": [
       "<Figure size 432x288 with 1 Axes>"
      ]
     },
     "metadata": {},
     "output_type": "display_data"
    }
   ],
   "source": [
    "x_predicted = np.random.uniform(-1, 1, 100)\n",
    "y_predicted = model.predict(x_predicted)\n",
    "plt.scatter(x_predicted, y_predicted,color='r')\n",
    "plt.plot(x_valid, y_target)\n",
    "plt.grid(True)\n",
    "plt.show()"
   ]
  },
  {
   "cell_type": "markdown",
   "metadata": {},
   "source": [
    "# es11.3"
   ]
  },
  {
   "cell_type": "code",
   "execution_count": null,
   "metadata": {},
   "outputs": [],
   "source": []
  },
  {
   "cell_type": "code",
   "execution_count": null,
   "metadata": {},
   "outputs": [],
   "source": []
  },
  {
   "cell_type": "code",
   "execution_count": null,
   "metadata": {},
   "outputs": [],
   "source": []
  }
 ],
 "metadata": {
  "kernelspec": {
   "display_name": "Python 3",
   "language": "python",
   "name": "python3"
  },
  "language_info": {
   "codemirror_mode": {
    "name": "ipython",
    "version": 3
   },
   "file_extension": ".py",
   "mimetype": "text/x-python",
   "name": "python",
   "nbconvert_exporter": "python",
   "pygments_lexer": "ipython3",
   "version": "3.6.8"
  }
 },
 "nbformat": 4,
 "nbformat_minor": 2
}
