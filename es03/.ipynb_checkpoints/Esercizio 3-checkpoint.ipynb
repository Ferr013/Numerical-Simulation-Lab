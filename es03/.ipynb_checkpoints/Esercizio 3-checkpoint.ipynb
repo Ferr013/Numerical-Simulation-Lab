{
 "cells": [
  {
   "cell_type": "code",
   "execution_count": 9,
   "metadata": {},
   "outputs": [
    {
     "data": {
      "image/png": "[encoded data removed]",
      "text/plain": [
       "<Figure size 432x288 with 1 Axes>"
      ]
     },
     "metadata": {},
     "output_type": "display_data"
    }
   ],
   "source": [
    "import matplotlib\n",
    "import matplotlib.pyplot as plt\n",
    "import numpy as np\n",
    "\n",
    "x, f, error = np.loadtxt(\"direct_call.dat\", usecols=(0,1,2), delimiter=' ', unpack='true')\n",
    "plt.errorbar(x,f,yerr=error)\n",
    "\n",
    "plt.axhline(y=14.975790778311286, xmin=0, xmax=1, color='orange', label='True $\\pi$')\n",
    "plt.xlabel('x')\n",
    "plt.ylabel('Integral value')\n",
    "plt.grid(True)\n",
    "plt.show()"
   ]
  },
  {
   "cell_type": "code",
   "execution_count": 11,
   "metadata": {},
   "outputs": [
    {
     "ename": "SyntaxError",
     "evalue": "invalid syntax (<ipython-input-11-dfd876d917b5>, line 9)",
     "output_type": "error",
     "traceback": [
      "\u001b[0;36m  File \u001b[0;32m\"<ipython-input-11-dfd876d917b5>\"\u001b[0;36m, line \u001b[0;32m9\u001b[0m\n\u001b[0;31m    plt.axhline(y=5.4595325819072364, xmin=0, xmax=1, color='orange', label='True $\\pi$')plt.grid(True))\u001b[0m\n\u001b[0m                                                                                           ^\u001b[0m\n\u001b[0;31mSyntaxError\u001b[0m\u001b[0;31m:\u001b[0m invalid syntax\n"
     ]
    }
   ],
   "source": [
    "import matplotlib\n",
    "import matplotlib.pyplot as plt\n",
    "import numpy as np\n",
    "\n",
    "x, f, error = np.loadtxt(\"direct_put.dat\", usecols=(0,1,2), delimiter=' ', unpack='true')\n",
    "plt.errorbar(x,f,yerr=error)\n",
    "plt.xlabel('x')\n",
    "plt.ylabel('Integral value')\n",
    "plt.axhline(y=5.4595325819072364, xmin=0, xmax=1, color='orange', label='True $\\pi$')\n",
    "plt.show()"
   ]
  },
  {
   "cell_type": "code",
   "execution_count": null,
   "metadata": {
    "scrolled": true
   },
   "outputs": [],
   "source": [
    "import matplotlib\n",
    "import matplotlib.pyplot as plt\n",
    "import numpy as np\n",
    "\n",
    "x, f, error = np.loadtxt(\"discrete_call.dat\", usecols=(0,1,2), delimiter=' ', unpack='true')\n",
    "plt.errorbar(x,f,yerr=error)\n",
    "plt.xlabel('x')\n",
    "plt.ylabel('Integral value')\n",
    "\n",
    "plt.axhline(y=14.975790778311286, xmin=0, xmax=1, color='orange', label='True $\\pi$')\n",
    "\n",
    "plt.grid(True)\n",
    "plt.show()"
   ]
  },
  {
   "cell_type": "code",
   "execution_count": null,
   "metadata": {},
   "outputs": [],
   "source": [
    "import matplotlib\n",
    "import matplotlib.pyplot as plt\n",
    "import numpy as np\n",
    "\n",
    "x, f, error = np.loadtxt(\"discrete_put.dat\", usecols=(0,1,2), delimiter=' ', unpack='true')\n",
    "plt.errorbar(x,f,yerr=error)\n",
    "plt.xlabel('x')\n",
    "plt.ylabel('Integral value')\n",
    "plt.axhline(y=5.4595325819072364, xmin=0, xmax=1, color='orange', label='True $\\pi$')plt.grid(True)\n",
    "plt.grid(True)\n",
    "plt.show()"
   ]
  },
  {
   "cell_type": "code",
   "execution_count": null,
   "metadata": {},
   "outputs": [],
   "source": []
  }
 ],
 "metadata": {
  "kernelspec": {
   "display_name": "Python 3",
   "language": "python",
   "name": "python3"
  },
  "language_info": {
   "codemirror_mode": {
    "name": "ipython",
    "version": 3
   },
   "file_extension": ".py",
   "mimetype": "text/x-python",
   "name": "python",
   "nbconvert_exporter": "python",
   "pygments_lexer": "ipython3",
   "version": "3.6.5"
  }
 },
 "nbformat": 4,
 "nbformat_minor": 2
}
